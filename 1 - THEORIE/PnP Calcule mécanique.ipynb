{
 "cells": [
  {
   "cell_type": "markdown",
   "metadata": {},
   "source": [
    "# Pick and Place \n",
    "## Mécanique"
   ]
  },
  {
   "cell_type": "markdown",
   "metadata": {},
   "source": [
    "Pour un moteur avec un couple donné 𝑇, le rayon effectif 𝑟 et le rendement 𝜂,la force maximale 𝐹, est donnée par :\n",
    "\n",
    "$F=T⋅η/r$\n",
    "\n",
    "Ensuite, en connaissant la force 𝐹 nous pouvons calculer la masse totale $m_{total}$ déplacée en fonction des accélérations et des résistances. \n",
    "\n",
    "$$m_{total}=m_{c}+m_{a}$$\n",
    "Horizontal :\n",
    "\n",
    "$$F=m_{total}⋅a+μ⋅m_{total}⋅g$$\n",
    "\n",
    "Résolvons pour $m_{total}$ :\n",
    "\n",
    "$$m_{total}= \\frac{F}{a+μ⋅g}$$\n",
    "\n",
    "Vertical : \n",
    "\n",
    "$$F=m_{total}⋅(a+g)+μ⋅m_{total}⋅g$$\n",
    "\n",
    "Résolvons pour $m_{total}$ :\n",
    "\n",
    "$$m_{total}= \\frac{F}{a+g+μ⋅g}$$\n",
    "\n"
   ]
  },
  {
   "cell_type": "markdown",
   "metadata": {},
   "source": [
    "---"
   ]
  },
  {
   "cell_type": "markdown",
   "metadata": {},
   "source": [
    "### Calcul du couple nécessaire"
   ]
  },
  {
   "cell_type": "code",
   "execution_count": 6,
   "metadata": {},
   "outputs": [
    {
     "name": "stdout",
     "output_type": "stream",
     "text": [
      "Force: 254.91 N, Couple: 1.46 Nm, Vitesse ajustée: 1.00 m/s\n",
      "Force marge: 305.89 N, Couple marge: 1.75 Nm\n"
     ]
    }
   ],
   "source": [
    "def calcul_force(m_c, m_a, a, v, mu, g=9.81, r=0.01, eta=0.9, ratio=1.0, axe='horizontal'):\n",
    "    \"\"\"\n",
    "    -param m_c: Masse du composant manipulé (kg)\n",
    "    -param m_a: Masse des parties mobiles de l'axe (kg)\n",
    "    -param a: Accélération maximale (m/s^2)\n",
    "    -param v: Vitesse cible (m/s)\n",
    "    -param mu: Coefficient de friction (sans unité)\n",
    "    -param g: Accélération gravitationnelle (m/s^2)\n",
    "    -param r: Rayon effectif du moteur ou poulie (m)\n",
    "    -param eta: Rendement mécanique (0 à 1)\n",
    "    -param ratio: Ratio du jeu d'engrenage (sans unité, >1 pour démultiplication)\n",
    "    -param axe: 'horizontal' ou 'vertical'\n",
    "    -return: Force linéaire (N), Couple (Nm), Vitesse ajustée (m/s)\n",
    "    \"\"\"\n",
    "    m_total = m_c + m_a\n",
    "\n",
    "    # Calcul de la force selon l'axe\n",
    "    if axe == 'horizontal':\n",
    "        force = m_total * a + mu * m_total * g\n",
    "    elif axe == 'vertical':\n",
    "        force = m_total * (a + g) + mu * m_total * g\n",
    "    else:\n",
    "        raise ValueError(\"L'axe doit être 'horizontal' ou 'vertical'\")\n",
    "\n",
    "    # Prise en compte du ratio pour le couple\n",
    "    couple = (force * r / eta) / ratio\n",
    "\n",
    "    # Ajustement de la vitesse de sortie en fonction du ratio\n",
    "    vitesse_sortie = v / ratio\n",
    "\n",
    "    return force, couple, vitesse_sortie\n",
    "\n",
    "# Exemple d'utilisation\n",
    "m_c = 0.1  # Masse du composant (kg)\n",
    "m_a = 4.9  # Masse des parties mobiles (kg)\n",
    "a = 50.0     # Accélération (m/s^2)\n",
    "v = 2        # Vitesse (m/s)\n",
    "mu = 0.1     # Coefficient de friction\n",
    "r = 0.01146  # Rayon de poulie (m)\n",
    "eta = 1      # Rendement (0,9 = 90%)\n",
    "ratio = 2    # Ratio du jeu d'engrenage\n",
    "coef_secu = 1.2  # Coefficient de sécurité marge\n",
    "\n",
    "force, couple, vitesse_sortie = calcul_force(m_c, m_a, a, v, mu, r=r, eta=eta, ratio=ratio, axe='horizontal')\n",
    "print(f\"Force: {force:.2f} N, Couple: {couple:.2f} Nm, Vitesse ajustée: {vitesse_sortie:.2f} m/s\")\n",
    "print(f\"Force marge: {force*coef_secu:.2f} N, Couple marge: {couple*coef_secu:.2f} Nm\")\n"
   ]
  },
  {
   "cell_type": "markdown",
   "metadata": {},
   "source": [
    "---"
   ]
  },
  {
   "cell_type": "markdown",
   "metadata": {},
   "source": [
    "### Calcul de la charge"
   ]
  },
  {
   "cell_type": "code",
   "execution_count": 10,
   "metadata": {},
   "outputs": [
    {
     "name": "stdout",
     "output_type": "stream",
     "text": [
      "Masse maximale (axe vertical) : 8.61 kg\n",
      "Masse maximale marge(axe vertical) : 7.18 kg\n",
      "Masse maximale (axe horizontal) : 10.27 kg\n",
      "Masse maximale marge(axe horizontal) : 8.56 kg\n"
     ]
    }
   ],
   "source": [
    "def calcul_masse_maximale(T, r, eta, a,ratio, mu, axe='horizontal', g=9.81):\n",
    "    \"\"\"    \n",
    "    :param T: Couple du moteur (Nm)\n",
    "    :param r: Rayon effectif de la poulie ou de l'axe (m)\n",
    "    :param eta: Rendement mécanique (0 à 1)\n",
    "    :param a: Accélération maximale (m/s^2)\n",
    "    :param mu: Coefficient de friction (sans unité)\n",
    "    :param axe: 'horizontal' ou 'vertical'\n",
    "    :param g: Accélération gravitationnelle (m/s^2)\n",
    "    :return: Masse maximale totale (kg)\n",
    "    \"\"\"\n",
    "    # Calcul de la force maximale disponible\n",
    "    F = (T * eta / r) * ratio  # Force en newtons (N)\n",
    "\n",
    "    # Calcul de la masse maximale selon l'axe\n",
    "    if axe == 'horizontal':\n",
    "        m_total = F / (a + mu * g)\n",
    "    elif axe == 'vertical':\n",
    "        m_total = F / (a + g + mu * g)\n",
    "    else:\n",
    "        raise ValueError(\"L'axe doit être 'horizontal' ou 'vertical'\")\n",
    "    \n",
    "    return m_total\n",
    "\n",
    "# Exemple d'utilisation\n",
    "T = 3.0      # Couple du moteur en Nm\n",
    "r = 0.01146     # Rayon de la poulie (1 cm)\n",
    "eta = 1    # Rendement mécanique (90%)\n",
    "a = 50.0      # Accélération maximale (m/s^2)\n",
    "mu = 0.1    # Coefficient de friction\n",
    "ratio = 2    # Ratio du jeu d'engrenage\n",
    "\n",
    "# Masse maximale pour un axe vertical\n",
    "m_max_vertical = calcul_masse_maximale(T, r, eta, a, ratio, mu, axe='vertical')\n",
    "print(f\"Masse maximale (axe vertical) : {m_max_vertical:.2f} kg\")\n",
    "print(f\"Masse maximale marge(axe vertical) : {m_max_vertical/coef_secu:.2f} kg\")\n",
    "\n",
    "# Masse maximale pour un axe horizontal\n",
    "m_max_horizontal = calcul_masse_maximale(T, r, eta, a, ratio, mu, axe='horizontal')\n",
    "print(f\"Masse maximale (axe horizontal) : {m_max_horizontal:.2f} kg\")\n",
    "print(f\"Masse maximale marge(axe horizontal) : {m_max_horizontal/coef_secu:.2f} kg\")\n"
   ]
  },
  {
   "cell_type": "markdown",
   "metadata": {},
   "source": [
    "---"
   ]
  },
  {
   "cell_type": "code",
   "execution_count": 17,
   "metadata": {},
   "outputs": [
    {
     "name": "stdout",
     "output_type": "stream",
     "text": [
      "Masse maximale (axe vertical) : 11.55 kg, Puissance : 942.41 W\n",
      "Masse maximale (axe horizontal) : 15.21 kg, Puissance : 942.41 W\n"
     ]
    }
   ],
   "source": [
    "def calcul_masse_maximale_vitesse(T, r, eta, a, v, ratio, mu_0, k=0, axe='horizontal', g=9.81):\n",
    "    \"\"\"\n",
    "    Calcule la masse totale maximale (composant + parties mobiles) qu'un moteur peut déplacer,\n",
    "    en tenant compte de la vitesse et du frottement dépendant de la vitesse.\n",
    "    \n",
    "    :param T: Couple du moteur (Nm)\n",
    "    :param r: Rayon effectif de la poulie ou de l'axe (m)\n",
    "    :param eta: Rendement mécanique (0 à 1)\n",
    "    :param a: Accélération maximale (m/s^2)\n",
    "    :param v: Vitesse cible (m/s)\n",
    "    :param mu_0: Coefficient de friction statique\n",
    "    :param k: Coefficient de friction dépendant de la vitesse (par défaut 0)\n",
    "    :param axe: 'horizontal' ou 'vertical'\n",
    "    :param g: Accélération gravitationnelle (m/s^2)\n",
    "    :return: Masse maximale totale (kg), Puissance requise (W)\n",
    "    \"\"\"\n",
    "    # Calcul de la force maximale disponible\n",
    "    F = ( T * eta / r ) * ratio # Force en newtons (N)\n",
    "\n",
    "    # Frottement dépendant de la vitesse\n",
    "    mu_v = mu_0 + k * v\n",
    "\n",
    "    # Calcul de la masse maximale selon l'axe\n",
    "    if axe == 'horizontal':\n",
    "        m_total = F / (a + mu_v * g)\n",
    "    elif axe == 'vertical':\n",
    "        m_total = F / (a + g + mu_v * g)\n",
    "    else:\n",
    "        raise ValueError(\"L'axe doit être 'horizontal' ou 'vertical'\")\n",
    "\n",
    "    # Calcul de la puissance nécessaire pour maintenir la vitesse\n",
    "    P = F * v  # Puissance en watts (W)\n",
    "\n",
    "    return m_total, P\n",
    "\n",
    "# Exemple d'utilisation\n",
    "T = 3.0      # Couple du moteur en Nm\n",
    "r = 0.01146     # Rayon de la poulie (1 cm)\n",
    "eta = 0.9    # Rendement mécanique (90%)\n",
    "a = 30      # Accélération maximale (m/s^2)\n",
    "v = 2      # Vitesse cible (m/s)\n",
    "mu_0 = 0.1  # Coefficient de friction statique\n",
    "k = 0     # Variation du frottement avec la vitesse\n",
    "ratio = 2    # Ratio du jeu d'engrenage\n",
    "\n",
    "# Masse maximale et puissance pour un axe vertical\n",
    "m_max_vertical, P_vertical = calcul_masse_maximale_vitesse(T, r, eta, a, v, ratio, mu_0, k, axe='vertical')\n",
    "print(f\"Masse maximale (axe vertical) : {m_max_vertical:.2f} kg, Puissance : {P_vertical:.2f} W\")\n",
    "\n",
    "# Masse maximale et puissance pour un axe horizontal\n",
    "m_max_horizontal, P_horizontal = calcul_masse_maximale_vitesse(T, r, eta, a, v, ratio, mu_0, k, axe='horizontal')\n",
    "print(f\"Masse maximale (axe horizontal) : {m_max_horizontal:.2f} kg, Puissance : {P_horizontal:.2f} W\")\n"
   ]
  },
  {
   "cell_type": "markdown",
   "metadata": {},
   "source": [
    "---"
   ]
  },
  {
   "cell_type": "markdown",
   "metadata": {},
   "source": [
    "## Calculs de vitesse maximale du moteur et distance parcourue par pas"
   ]
  },
  {
   "cell_type": "markdown",
   "metadata": {},
   "source": [
    "\n",
    "1. Vitesse de rotation maximale ($𝜔_{max}$ en rad/s et RPM)\n",
    "\n",
    "La vitesse de rotation maximale d'un moteur dépend de la fréquence d'entrée maximale du driver ($𝑓_{max}$) et du nombre de pas par révolution ($𝑁_{steps}$):\n",
    "\n",
    "- En radians par seconde ($𝜔_{max}$):\n",
    "\n",
    "$$𝜔_{max}= \\frac{2π⋅𝑓_{max}}{𝑁_{steps}}$$\n",
    "\n",
    "- En tours par minute (RPM):\n",
    "\n",
    "$$RPM_{max}= \\frac{𝑓_{max}⋅60}{𝑁_{steps}}$$\n",
    "\n",
    "2. Vitesse linéaire et distance parcourue par pas (précision PnP)\n",
    "\n",
    "- Vitesse linéaire ($v_{lin}$)\n",
    "\n",
    "$$v_{lin}=ω⋅r$$\n",
    "\n",
    "- Distance parcourue par pas ($d_{step}$)\n",
    "\n",
    "$$d_{step}= \\frac{π⋅D}{𝑁_{steps}}$$"
   ]
  },
  {
   "cell_type": "markdown",
   "metadata": {},
   "source": [
    "Fréquence max des stepper moteur : https://www.omc-stepperonline.com/fr/support/quelle-est-la-vitesse-maximale-frequence-la-plus-elevee-du-moteur-pas-a-pas?srsltid=AfmBOoqeKuFIeAo0ru7t6FeIFOOswYjshOpxPyBiXgGPo6L8qANc8rjO"
   ]
  },
  {
   "cell_type": "code",
   "execution_count": 15,
   "metadata": {},
   "outputs": [
    {
     "name": "stdout",
     "output_type": "stream",
     "text": [
      "Nombre de step par révolution : 3200.00\n",
      "Vitesse angulaire max : 104.72 rad/s\n",
      "Vitesse max en RPM : 999.96 tours/min\n",
      "Vitesse linéaire max : 2400.0807802711 mm/s\n",
      "Distance parcourue par step : 0.045003 mm -> 45.003315  µm\n"
     ]
    }
   ],
   "source": [
    "import math\n",
    "\n",
    "# Fonction pour calculer la vitesse de rotation maximale\n",
    "def vitesse_rotation_max(f_max):\n",
    "    \"\"\"\n",
    "    Calcule la vitesse maximale de rotation du moteur.\n",
    "    \n",
    "    Paramètres :\n",
    "    - f_max : Fréquence maximale du driver (en Hz)\n",
    "    - N_steps : Nombre de pas par révolution (en steps/rev)\n",
    "    \n",
    "    Retourne :\n",
    "    - vitesse_rad_s : Vitesse en rad/s\n",
    "    - vitesse_rpm : Vitesse en tours par minute (RPM)\n",
    "    \"\"\"\n",
    "    # Vitesse angulaire en rad/s\n",
    "    vitesse_rad_s = (2 * math.pi * f_max)\n",
    "    # Vitesse en tours par minute\n",
    "    vitesse_rpm = (f_max * 60)\n",
    "    return vitesse_rad_s, vitesse_rpm\n",
    "\n",
    "# Fonction pour calculer la vitesse linéaire et la distance parcourue par step\n",
    "def vitesse_lineaire_et_distance(omega, rayon_poulie, ratio, N_steps, diametre_poulie):\n",
    "    \"\"\"\n",
    "    Calcule la vitesse linéaire et la distance parcourue par pas.\n",
    "    \n",
    "    Paramètres :\n",
    "    - omega : Vitesse angulaire (en rad/s)\n",
    "    - rayon_poulie : Rayon de la poulie (en mètres)\n",
    "    - N_steps : Nombre de pas par révolution\n",
    "    - diametre_poulie : Diamètre de la poulie (en mètres)\n",
    "    \n",
    "    Retourne :\n",
    "    - vitesse_lin : Vitesse linéaire (en m/s)\n",
    "    - distance_par_step : Distance parcourue par pas (en mètres)\n",
    "    \"\"\"\n",
    "    # Vitesse linéaire\n",
    "    vitesse_lin = ( omega * rayon_poulie ) / ratio\n",
    "    # Distance parcourue par step\n",
    "    distance_par_step = (math.pi * diametre_poulie) / N_steps\n",
    "    distance_par_step /= ratio\n",
    "    return vitesse_lin, distance_par_step\n",
    "\n",
    "# Fonction pour calculer le nombre de step pour un tour en fonction du microstepping\n",
    "def calculer_nombre_steps(N_steps_base, microstepping):\n",
    "    \"\"\"\n",
    "    Calcule le nombre total de pas pour une révolution en fonction du microstepping.\n",
    "    \n",
    "    Paramètres :\n",
    "    - N_steps_base : Nombre de pas par révolution sans microstepping (ex: 200 pas/rev)\n",
    "    - microstepping : Facteur de microstepping (ex: 1, 2, 4, 8, 16, ...)\n",
    "    \n",
    "    Retourne :\n",
    "    - N_steps : Nombre total de pas par révolution\n",
    "    \"\"\"\n",
    "    return N_steps_base * microstepping\n",
    "\n",
    "\n",
    "# Exemple d'utilisation\n",
    "if __name__ == \"__main__\":\n",
    "\n",
    "    # Paramètres\n",
    "    f_max = 16.666  # Fréquence max du driver (en Hz) (25 Hz=1500RPM, 16.666Hz=1000RPM)\n",
    "    N_steps_base = 200 # Nombre de pas par révolution sans microstepping (ex: 200 pas/rev) (ex = 1.8°/rev => 200 pas/rev)\n",
    "    microstepping = 16 # Facteur de microstepping (ex: 1, 2, 4, 8, 16, 32 ...)\n",
    "    N_steps = 0   # Nombre de pas par révolution (en microstepping 1/16)\n",
    "    rayon_poulie = 0.01146 # Rayon de la poulie (en mètres)\n",
    "    diametre_poulie = 2 * rayon_poulie  # Diamètre de la poulie (en mètres)\n",
    "    ratio = 2    # Ratio du jeu d'engrenage \n",
    "\n",
    "    N_steps =calculer_nombre_steps(N_steps_base, microstepping)\n",
    "    print(f\"Nombre de step par révolution : {N_steps:.2f}\")\n",
    "    \n",
    "    # Calculer la vitesse de rotation maximale\n",
    "    vitesse_rad_s, vitesse_rpm = vitesse_rotation_max(f_max)\n",
    "    print(f\"Vitesse angulaire max : {vitesse_rad_s:.2f} rad/s\")\n",
    "    print(f\"Vitesse max en RPM : {vitesse_rpm:.2f} tours/min\")\n",
    "    \n",
    "    # Calculer la vitesse linéaire et la distance par pas\n",
    "    vitesse_lin, distance_par_step = vitesse_lineaire_et_distance(vitesse_rad_s, rayon_poulie, ratio, N_steps, diametre_poulie)\n",
    "    print(f\"Vitesse linéaire max : {vitesse_lin*1000:.10f} mm/s\")\n",
    "    print(f\"Distance parcourue par step : {distance_par_step*1000:.6f} mm -> {distance_par_step*1000000:.6f}  µm\")\n"
   ]
  },
  {
   "cell_type": "markdown",
   "metadata": {},
   "source": [
    "---"
   ]
  },
  {
   "cell_type": "markdown",
   "metadata": {},
   "source": [
    "### Bonus: calculs poulie et rapport d'engrenage"
   ]
  },
  {
   "cell_type": "code",
   "execution_count": 118,
   "metadata": {},
   "outputs": [
    {
     "name": "stdout",
     "output_type": "stream",
     "text": [
      "Engrenage 1 (avec module) :  {'module': 2, 'pas': 2, 'nombre_dents': 16, 'diametre': 10.19}\n",
      "Engrenage 2 (avec pas) :  {'module': 2, 'pas': 2, 'nombre_dents': 36, 'diametre': 22.92}\n",
      "Rapport de transmission (Z2/Z1) : 0.50\n"
     ]
    }
   ],
   "source": [
    "def calculer_engrenage(module=None, pas=None, nombre_dents=None, diametre=None):\n",
    "    \"\"\"\n",
    "    Calcule les informations d'une poulie/engrenage (module, pas, nombre de dents, diamètre primitif).\n",
    "    Il faut fournir au moins deux paramètres pour calculer le troisième.\n",
    "    \n",
    "    Paramètres :\n",
    "    - module : Module de l'engrenage (en mm)\n",
    "    - pas : Pas de l'engrenage/poulie (en mm, distance entre deux dents consécutives)\n",
    "    - nombre_dents : Nombre de dents de l'engrenage/poulie\n",
    "    - diametre : Diamètre primitif de l'engrenage/poulie (en mm)\n",
    "    \n",
    "    Retourne :\n",
    "    - Un dictionnaire contenant les valeurs calculées\n",
    "    \"\"\"\n",
    "    if module is None and pas is None:\n",
    "        raise ValueError(\"Il faut fournir au moins un module ou un pas pour effectuer le calcul.\")\n",
    "    \n",
    "    if module is None:\n",
    "        # Si le module n'est pas fourni, le calculer à partir du pas\n",
    "        module = pas\n",
    "    \n",
    "    elif pas is None:\n",
    "        # Si le pas n'est pas fourni, le calculer à partir du module\n",
    "        pas = module\n",
    "\n",
    "    # Calculs basés sur les paramètres fournis\n",
    "    if nombre_dents is None:\n",
    "        # Si le nombre de dents n'est pas fourni, le calculer\n",
    "        if diametre is not None:\n",
    "            nombre_dents = int(diametre / module)\n",
    "        else:\n",
    "            raise ValueError(\"Il faut fournir le diamètre ou le nombre de dents pour effectuer le calcul.\")\n",
    "    elif diametre is None:\n",
    "        # Si le diamètre n'est pas fourni, le calculer\n",
    "        if nombre_dents is not None:\n",
    "            diametre = round((module * nombre_dents)/math.pi,2)\n",
    "        else:\n",
    "            raise ValueError(\"Il faut fournir le diamètre ou le nombre de dents pour effectuer le calcul.\")\n",
    "\n",
    "    return {\n",
    "        \"module\": module,\n",
    "        \"pas\": pas,\n",
    "        \"nombre_dents\": nombre_dents,\n",
    "        \"diametre\": diametre\n",
    "    }\n",
    "\n",
    "\n",
    "def calculer_rapport_transmission(nombre_dents1=None, nombre_dents2=None, diametre1=None, diametre2=None, pas1=None, pas2=None, module1=None, module2=None):\n",
    "    \"\"\"\n",
    "    Calcule le rapport de transmission entre deux poulies/engrenages avec possibilité de prendre en compte le module ou le pas.\n",
    "    \n",
    "    Paramètres :\n",
    "    - nombre_dents1 : Nombre de dents du premier engrenage\n",
    "    - nombre_dents2 : Nombre de dents du deuxième engrenage\n",
    "    - diametre1 : Diamètre primitif du premier engrenage (en mm)\n",
    "    - diametre2 : Diamètre primitif du deuxième engrenage (en mm)\n",
    "    - pas1 : Pas de la première poulie (en mm)\n",
    "    - pas2 : Pas de la deuxième poulie (en mm)\n",
    "    - module1 : Module du premier engrenage (en mm)\n",
    "    - module2 : Module du deuxième engrenage (en mm)\n",
    "    \n",
    "    Retourne :\n",
    "    - Le rapport de transmission (R)\n",
    "    \"\"\"\n",
    "    if nombre_dents1 is not None and nombre_dents2 is not None:\n",
    "        # Calculer à partir des nombres de dents\n",
    "        rapport = nombre_dents2 / nombre_dents1\n",
    "    elif diametre1 is not None and diametre2 is not None:\n",
    "        # Calculer à partir des diamètres primitifs\n",
    "        rapport = diametre2 / diametre1\n",
    "    elif pas1 is not None and pas2 is not None:\n",
    "        # Calculer à partir des pas\n",
    "        rapport = pas2 / pas1\n",
    "    elif module1 is not None and module2 is not None:\n",
    "        # Calculer à partir des modules\n",
    "        rapport = module2 / module1\n",
    "    else:\n",
    "        raise ValueError(\"Au moins les nombres de dents, les diamètres, les pas ou les modules des deux engrenages sont nécessaires.\")\n",
    "    \n",
    "    return rapport\n",
    "\n",
    "\n",
    "# Exemple d'utilisation avec module ou pas\n",
    "if __name__ == \"__main__\":\n",
    "    # Exemple 1 : Calcul des caractéristiques d'un engrenage/poulie avec module ou pas\n",
    "    engrenage1 = calculer_engrenage(pas=2, nombre_dents=16)\n",
    "    print(\"Engrenage 1 (avec module) : \", engrenage1)\n",
    "    \n",
    "    engrenage2 = calculer_engrenage(pas=2, nombre_dents=36)\n",
    "    print(\"Engrenage 2 (avec pas) : \", engrenage2)\n",
    "    \n",
    "    # Exemple 2 : Calcul du rapport de transmission avec module ou pas\n",
    "    rapport1 = calculer_rapport_transmission(nombre_dents1=32, nombre_dents2=16)\n",
    "    print(f\"Rapport de transmission (Z2/Z1) : {rapport1:.2f}\")\n",
    "    \n",
    "    # rapport2 = calculer_rapport_transmission(diametre1=40, diametre2=80)\n",
    "    # print(f\"Rapport de transmission (D2/D1) : {rapport2:.2f}\")\n",
    "    \n",
    "    # rapport3 = calculer_rapport_transmission(pas1=2, pas2=4)\n",
    "    # print(f\"Rapport de transmission (Pas2/Pas1) : {rapport3:.2f}\")\n",
    "    \n",
    "    # rapport4 = calculer_rapport_transmission(module1=2, module2=4)\n",
    "    # print(f\"Rapport de transmission (Module2/Module1) : {rapport4:.2f}\")\n"
   ]
  }
 ],
 "metadata": {
  "kernelspec": {
   "display_name": "Python 3",
   "language": "python",
   "name": "python3"
  },
  "language_info": {
   "codemirror_mode": {
    "name": "ipython",
    "version": 3
   },
   "file_extension": ".py",
   "mimetype": "text/x-python",
   "name": "python",
   "nbconvert_exporter": "python",
   "pygments_lexer": "ipython3",
   "version": "3.11.9"
  }
 },
 "nbformat": 4,
 "nbformat_minor": 2
}
